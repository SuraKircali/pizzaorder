{
  "nbformat": 4,
  "nbformat_minor": 0,
  "metadata": {
    "colab": {
      "provenance": []
    },
    "kernelspec": {
      "name": "python3",
      "display_name": "Python 3"
    },
    "language_info": {
      "name": "python"
    }
  },
  "cells": [
    {
      "cell_type": "markdown",
      "source": [
        "Bu kod, Akbank Python Bootcamp Proje Teslimi için Python programlama dilinde hazırlanmış olup Pizza Sipariş Sistemini içermektedir."
      ],
      "metadata": {
        "id": "jGO-Md3iBMp3"
      }
    },
    {
      "cell_type": "markdown",
      "source": [
        "İlk olarak gerekli kütüphaneleri çağıralım:"
      ],
      "metadata": {
        "id": "sxw-mG3rWAWn"
      }
    },
    {
      "cell_type": "code",
      "execution_count": 3,
      "metadata": {
        "id": "MUtB82Mq_36n"
      },
      "outputs": [],
      "source": [
        "import csv\n",
        "import datetime\n",
        "import pandas as pd\n",
        "import numpy as np"
      ]
    },
    {
      "cell_type": "markdown",
      "source": [
        "Paylaşılan menü doğrultusunda bir \".txt\" dosyası oluşturduktan sonra dosyamızı çağırıp içindekilere bakalım:"
      ],
      "metadata": {
        "id": "O5dI96pEFIln"
      }
    },
    {
      "cell_type": "code",
      "source": [
        "menu = \"Menu.txt\"\n",
        "data = np.loadtxt(menu, delimiter=',', skiprows=0, dtype=str)\n",
        "print(data)"
      ],
      "metadata": {
        "colab": {
          "base_uri": "https://localhost:8080/"
        },
        "id": "DC7l35dNBwyG",
        "outputId": "cc0cdbd7-ea05-4836-d26e-d4d042b2d8bf"
      },
      "execution_count": 4,
      "outputs": [
        {
          "output_type": "stream",
          "name": "stdout",
          "text": [
            "['* Lütfen Bir Pizza Tabanı Seçiniz:' '1: Klasik' '2: Margarita'\n",
            " '3: TürkPizza' '4: Sade Pizza' '* ve seçeceğiniz sos:' '11: Zeytin'\n",
            " '12: Mantarlar' '13: Keçi Peyniri' '14: Et' '15: Soğan' '16: Mısır'\n",
            " '* Teşekkür ederiz!']\n"
          ]
        }
      ]
    },
    {
      "cell_type": "markdown",
      "source": [
        "Şimdi sırada \"Pizza\" üst ve alt sınıfları oluşturmak var:"
      ],
      "metadata": {
        "id": "Auxwll1gF6hs"
      }
    },
    {
      "cell_type": "code",
      "source": [
        "#Üst sınıfımız:\n",
        "\n",
        "class Pizza():\n",
        "  name = \"\"\n",
        "  cost = 0\n",
        "  size = \"\"\n",
        "  def __init__ (self, cost, description):\n",
        "    self.cost = cost\n",
        "    self.description = description\n",
        "  def get_cost(self):\n",
        "    return self.cost\n",
        "  def get_description(self):\n",
        "    return self.description\n",
        "\n",
        "#Alt sınıflarımız:\n",
        "\n",
        "class Klasik(Pizza):\n",
        "  def __init__(self):\n",
        "    self.cost = 175\n",
        "    self.description = \"Seçtiğiniz Pizza Klasik Pizza olup içerisinde; sucuk, sosis, mısır, mozarella peyniri, yeşil biber, pizza sosu ve mantar bulunmaktadır.\"\n",
        "\n",
        "class Margherita(Pizza):\n",
        "  def __init__(self):\n",
        "    self.cost = 165\n",
        "    self.description = \"Seçtiğiniz Pizza Margherita Pizza olup içerisinde; pizza sosu ve mozarella peyniri bulunmaktadır.\"\n",
        "\n",
        "class TurkPizzasi(Pizza):\n",
        "  def __init__ (self):\n",
        "    self.cost = 190\n",
        "    self.description = \"Seçtiğiniz Pizza Türk Pizzası olup içerisinde; köz biber, mozarella peyniri, pizza sosu, soğan, biftek ve yöresel lezzetli baharat bulunmaktadır.\"\n",
        "\n",
        "class BalliPizza(Pizza):\n",
        "  def __init__ (self):\n",
        "    self.cost = 180\n",
        "    self.description = \"Seçtiğiniz Pizza Ballı Hardallı Tavuk Pizza olup içerisinde; mozarella peyniri, pizza sosu, soğan, mantar ve ballı hardal sos bulunmaktadır.\"\n"
      ],
      "metadata": {
        "id": "nvgNdTGeGBNt"
      },
      "execution_count": 25,
      "outputs": []
    },
    {
      "cell_type": "markdown",
      "source": [
        "Ardından \"Decorator\"ü çağırıp tüm sos sınıflarımız için bir süper sınıf oluşturalım:"
      ],
      "metadata": {
        "id": "uwIjFHDIB8jX"
      }
    },
    {
      "cell_type": "code",
      "source": [
        "class Decorator (Pizza):\n",
        "  def __init__ (self, cost, description):\n",
        "    Pizza.__init__(cost, description)\n",
        "  \n",
        "  def get_cost(self):\n",
        "    return self.component.get_cost() + \\\n",
        "      Pizza.get_cost(self)\n",
        "\n",
        "  def get_description(self):\n",
        "    return self.component.get_cost() + \\\n",
        "      \" \" + Pizza.get_description(self)\n",
        "\n",
        "class Zeytin(Pizza):\n",
        "  def __init__ (self):\n",
        "    self.cost = 5\n",
        "    self.description = \"\"\n",
        "\n",
        "class Mantar(Pizza):\n",
        "  def __init__ (self):\n",
        "    self.cost = 6\n",
        "    self.description = \"\"\n",
        "\n",
        "class KeciPeyniri(Pizza):\n",
        "  def __init__ (self):\n",
        "    self.cost = 7\n",
        "    self.description = \"\"\n",
        "\n",
        "class Et(Pizza):\n",
        "  def __init__ (self):\n",
        "    self.cost = 8\n",
        "    self.description = \"\"\n",
        "\n",
        "class Sogan(Pizza):\n",
        "  def __init__ (self):\n",
        "    self.cost = 9\n",
        "    self.description = \"\"\n",
        "\n",
        "class Misir(Pizza):\n",
        "  def __init__ (self):\n",
        "    self.cost = 10\n",
        "    self.description = \"\"\n",
        "    "
      ],
      "metadata": {
        "id": "nSsONoyYB8Da"
      },
      "execution_count": 13,
      "outputs": []
    },
    {
      "cell_type": "markdown",
      "source": [
        "Pizza siparişi alacağımız müşterilerimize, pizza ve sos bilgilerini girebilecekleri Main fonksiyonumuzu oluşturalım:"
      ],
      "metadata": {
        "id": "seHgjvpyH8mJ"
      }
    },
    {
      "cell_type": "code",
      "source": [
        "def Main():\n",
        "  menu = open(\"Menu.txt\", \"r\")\n",
        "  print(menu.read())\n",
        "\n",
        "  siparis = input(\"Lütfen pizzanızı seçiniz: \")\n",
        "  if siparis == \"1\":\n",
        "    secim = Klasik()\n",
        "  elif siparis == \"2\":\n",
        "    secim = Margherita()\n",
        "  elif siparis == \"3\":\n",
        "    secim = TurkPizzasi()\n",
        "  elif siparis == \"4\":\n",
        "    secim = BalliPizza()\n",
        "  else:\n",
        "    print(\"Lütfen menüden pizza türünü seçiniz\")\n",
        "\n",
        "  sos = input(\"Lütfen sosunuzu seçiniz: \")\n",
        "  if sos == \"11\":\n",
        "    sosum = Zeytin()\n",
        "  elif sos == \"12\":\n",
        "    sosum = Mantar()\n",
        "  elif sos == \"13\":\n",
        "    sosum = KeciPeyniri()\n",
        "  elif sos==\"14\":\n",
        "    sosum = Et()\n",
        "  elif sos==\"15\":\n",
        "    sosum = Sogan()\n",
        "  elif sos==\"16\":\n",
        "    sosum = Misir()        \n",
        "  else:\n",
        "    print(\"Lütfen menüden sos seçiniz\")\n",
        "\n",
        "  isim = input(\"Lütfen isminizi giriniz: \")\n",
        "  tc = input(\"Lütfen T.C. kimlik numaranızı giriniz: \")\n",
        "  kart = input(\"Lütfen kart numaranızı giriniz: \")\n",
        "  saat = datetime.datetime.now()\n",
        "  tarih = datetime.datetime.strftime(saat, \"%c\")\n",
        "  sifre = input(\"Lütfen kart şifrenizi giriniz: \")\n",
        "  \n",
        "#Yeni bir .csv uzantılı dosya oluşturalım ki girilen değerleri kaydedebilelim:\n",
        "  with open('Orders_Database.csv', mode='a') as file:\n",
        "    writer = csv.writer(file, delimiter=',', quotechar='\"', quoting=csv.QUOTE_MINIMAL)\n",
        "    writer.writerow([isim,tc,kart,secim.get_description()+sosum.get_description(),tarih,sifre])\n",
        "\n"
      ],
      "metadata": {
        "id": "50uOTY6wIFLE"
      },
      "execution_count": 8,
      "outputs": []
    },
    {
      "cell_type": "markdown",
      "source": [
        "Müşteriden sipariş almak için Main fonksiyonumuzu çalıştıralım:"
      ],
      "metadata": {
        "id": "rc-Mzwf-rE-d"
      }
    },
    {
      "cell_type": "code",
      "source": [
        "Main()"
      ],
      "metadata": {
        "colab": {
          "base_uri": "https://localhost:8080/"
        },
        "id": "JCYw7VuVJkoU",
        "outputId": "d0af7b6c-2716-47e2-8a1b-92547b49e646"
      },
      "execution_count": 23,
      "outputs": [
        {
          "name": "stdout",
          "output_type": "stream",
          "text": [
            "* Lütfen Bir Pizza Tabanı Seçiniz:\n",
            "1: Klasik\n",
            "2: Margarita\n",
            "3: TürkPizza\n",
            "4: Sade Pizza\n",
            "* ve seçeceğiniz sos:\n",
            "11: Zeytin\n",
            "12: Mantarlar\n",
            "13: Keçi Peyniri\n",
            "14: Et\n",
            "15: Soğan\n",
            "16: Mısır\n",
            "* Teşekkür ederiz!\n",
            "\n",
            "Lütfen pizzanızı seçiniz: 4\n",
            "Lütfen sosunuzu seçiniz: 11\n",
            "Lütfen isminizi giriniz: Sude\n",
            "Lütfen T.C. kimlik numaranızı giriniz: 111\n",
            "Lütfen kart numaranızı giriniz: 222\n",
            "Lütfen kart şifrenizi giriniz: 333\n"
          ]
        }
      ]
    },
    {
      "cell_type": "markdown",
      "source": [
        "Son olarak girilen değerleri tablo olarak yazdıralım:"
      ],
      "metadata": {
        "id": "qBBNS5DPVh3z"
      }
    },
    {
      "cell_type": "code",
      "source": [
        "df = pd.read_csv(\"Orders_Database.csv\")\n",
        "df.columns=[\"İsim\",\"TC No\",\"Kredi Kartı No\",\"Sipariş Açıklama\",\"Sipariş Tarihi\", \"Şifreniz\"]\n",
        "df"
      ],
      "metadata": {
        "colab": {
          "base_uri": "https://localhost:8080/",
          "height": 206
        },
        "id": "2VMqCBbrtijR",
        "outputId": "8e6e0000-161c-42d2-b54c-a80dd2f11f6d"
      },
      "execution_count": 24,
      "outputs": [
        {
          "output_type": "execute_result",
          "data": {
            "text/plain": [
              "   İsim  TC No  Kredi Kartı No  \\\n",
              "0  Şura    456            8888   \n",
              "1   Ali    888             111   \n",
              "2  Ayşe    777            8888   \n",
              "3  Jale    777             888   \n",
              "4  Sude    111             222   \n",
              "\n",
              "                                    Sipariş Açıklama  \\\n",
              "0  Seçtiğiniz Pizza Ballı Hardallı Tavuk Pizza ol...   \n",
              "1  Seçtiğiniz Pizza Margherita Pizza olup içerisi...   \n",
              "2  Seçtiğiniz Pizza Ballı Hardallı Tavuk Pizza ol...   \n",
              "3  Seçtiğiniz Pizza Klasik Pizza olup içerisinde;...   \n",
              "4  Seçtiğiniz Pizza Ballı Hardallı Tavuk Pizza ol...   \n",
              "\n",
              "             Sipariş Tarihi  Şifreniz  \n",
              "0  Sun Mar 12 19:38:34 2023     12352  \n",
              "1  Sun Mar 12 19:39:02 2023      4654  \n",
              "2  Sun Mar 12 19:40:32 2023      9999  \n",
              "3  Sun Mar 12 19:41:11 2023       999  \n",
              "4  Sun Mar 12 19:41:33 2023       333  "
            ],
            "text/html": [
              "\n",
              "  <div id=\"df-df499400-073f-46f7-8ebf-1715a90ada21\">\n",
              "    <div class=\"colab-df-container\">\n",
              "      <div>\n",
              "<style scoped>\n",
              "    .dataframe tbody tr th:only-of-type {\n",
              "        vertical-align: middle;\n",
              "    }\n",
              "\n",
              "    .dataframe tbody tr th {\n",
              "        vertical-align: top;\n",
              "    }\n",
              "\n",
              "    .dataframe thead th {\n",
              "        text-align: right;\n",
              "    }\n",
              "</style>\n",
              "<table border=\"1\" class=\"dataframe\">\n",
              "  <thead>\n",
              "    <tr style=\"text-align: right;\">\n",
              "      <th></th>\n",
              "      <th>İsim</th>\n",
              "      <th>TC No</th>\n",
              "      <th>Kredi Kartı No</th>\n",
              "      <th>Sipariş Açıklama</th>\n",
              "      <th>Sipariş Tarihi</th>\n",
              "      <th>Şifreniz</th>\n",
              "    </tr>\n",
              "  </thead>\n",
              "  <tbody>\n",
              "    <tr>\n",
              "      <th>0</th>\n",
              "      <td>Şura</td>\n",
              "      <td>456</td>\n",
              "      <td>8888</td>\n",
              "      <td>Seçtiğiniz Pizza Ballı Hardallı Tavuk Pizza ol...</td>\n",
              "      <td>Sun Mar 12 19:38:34 2023</td>\n",
              "      <td>12352</td>\n",
              "    </tr>\n",
              "    <tr>\n",
              "      <th>1</th>\n",
              "      <td>Ali</td>\n",
              "      <td>888</td>\n",
              "      <td>111</td>\n",
              "      <td>Seçtiğiniz Pizza Margherita Pizza olup içerisi...</td>\n",
              "      <td>Sun Mar 12 19:39:02 2023</td>\n",
              "      <td>4654</td>\n",
              "    </tr>\n",
              "    <tr>\n",
              "      <th>2</th>\n",
              "      <td>Ayşe</td>\n",
              "      <td>777</td>\n",
              "      <td>8888</td>\n",
              "      <td>Seçtiğiniz Pizza Ballı Hardallı Tavuk Pizza ol...</td>\n",
              "      <td>Sun Mar 12 19:40:32 2023</td>\n",
              "      <td>9999</td>\n",
              "    </tr>\n",
              "    <tr>\n",
              "      <th>3</th>\n",
              "      <td>Jale</td>\n",
              "      <td>777</td>\n",
              "      <td>888</td>\n",
              "      <td>Seçtiğiniz Pizza Klasik Pizza olup içerisinde;...</td>\n",
              "      <td>Sun Mar 12 19:41:11 2023</td>\n",
              "      <td>999</td>\n",
              "    </tr>\n",
              "    <tr>\n",
              "      <th>4</th>\n",
              "      <td>Sude</td>\n",
              "      <td>111</td>\n",
              "      <td>222</td>\n",
              "      <td>Seçtiğiniz Pizza Ballı Hardallı Tavuk Pizza ol...</td>\n",
              "      <td>Sun Mar 12 19:41:33 2023</td>\n",
              "      <td>333</td>\n",
              "    </tr>\n",
              "  </tbody>\n",
              "</table>\n",
              "</div>\n",
              "      <button class=\"colab-df-convert\" onclick=\"convertToInteractive('df-df499400-073f-46f7-8ebf-1715a90ada21')\"\n",
              "              title=\"Convert this dataframe to an interactive table.\"\n",
              "              style=\"display:none;\">\n",
              "        \n",
              "  <svg xmlns=\"http://www.w3.org/2000/svg\" height=\"24px\"viewBox=\"0 0 24 24\"\n",
              "       width=\"24px\">\n",
              "    <path d=\"M0 0h24v24H0V0z\" fill=\"none\"/>\n",
              "    <path d=\"M18.56 5.44l.94 2.06.94-2.06 2.06-.94-2.06-.94-.94-2.06-.94 2.06-2.06.94zm-11 1L8.5 8.5l.94-2.06 2.06-.94-2.06-.94L8.5 2.5l-.94 2.06-2.06.94zm10 10l.94 2.06.94-2.06 2.06-.94-2.06-.94-.94-2.06-.94 2.06-2.06.94z\"/><path d=\"M17.41 7.96l-1.37-1.37c-.4-.4-.92-.59-1.43-.59-.52 0-1.04.2-1.43.59L10.3 9.45l-7.72 7.72c-.78.78-.78 2.05 0 2.83L4 21.41c.39.39.9.59 1.41.59.51 0 1.02-.2 1.41-.59l7.78-7.78 2.81-2.81c.8-.78.8-2.07 0-2.86zM5.41 20L4 18.59l7.72-7.72 1.47 1.35L5.41 20z\"/>\n",
              "  </svg>\n",
              "      </button>\n",
              "      \n",
              "  <style>\n",
              "    .colab-df-container {\n",
              "      display:flex;\n",
              "      flex-wrap:wrap;\n",
              "      gap: 12px;\n",
              "    }\n",
              "\n",
              "    .colab-df-convert {\n",
              "      background-color: #E8F0FE;\n",
              "      border: none;\n",
              "      border-radius: 50%;\n",
              "      cursor: pointer;\n",
              "      display: none;\n",
              "      fill: #1967D2;\n",
              "      height: 32px;\n",
              "      padding: 0 0 0 0;\n",
              "      width: 32px;\n",
              "    }\n",
              "\n",
              "    .colab-df-convert:hover {\n",
              "      background-color: #E2EBFA;\n",
              "      box-shadow: 0px 1px 2px rgba(60, 64, 67, 0.3), 0px 1px 3px 1px rgba(60, 64, 67, 0.15);\n",
              "      fill: #174EA6;\n",
              "    }\n",
              "\n",
              "    [theme=dark] .colab-df-convert {\n",
              "      background-color: #3B4455;\n",
              "      fill: #D2E3FC;\n",
              "    }\n",
              "\n",
              "    [theme=dark] .colab-df-convert:hover {\n",
              "      background-color: #434B5C;\n",
              "      box-shadow: 0px 1px 3px 1px rgba(0, 0, 0, 0.15);\n",
              "      filter: drop-shadow(0px 1px 2px rgba(0, 0, 0, 0.3));\n",
              "      fill: #FFFFFF;\n",
              "    }\n",
              "  </style>\n",
              "\n",
              "      <script>\n",
              "        const buttonEl =\n",
              "          document.querySelector('#df-df499400-073f-46f7-8ebf-1715a90ada21 button.colab-df-convert');\n",
              "        buttonEl.style.display =\n",
              "          google.colab.kernel.accessAllowed ? 'block' : 'none';\n",
              "\n",
              "        async function convertToInteractive(key) {\n",
              "          const element = document.querySelector('#df-df499400-073f-46f7-8ebf-1715a90ada21');\n",
              "          const dataTable =\n",
              "            await google.colab.kernel.invokeFunction('convertToInteractive',\n",
              "                                                     [key], {});\n",
              "          if (!dataTable) return;\n",
              "\n",
              "          const docLinkHtml = 'Like what you see? Visit the ' +\n",
              "            '<a target=\"_blank\" href=https://colab.research.google.com/notebooks/data_table.ipynb>data table notebook</a>'\n",
              "            + ' to learn more about interactive tables.';\n",
              "          element.innerHTML = '';\n",
              "          dataTable['output_type'] = 'display_data';\n",
              "          await google.colab.output.renderOutput(dataTable, element);\n",
              "          const docLink = document.createElement('div');\n",
              "          docLink.innerHTML = docLinkHtml;\n",
              "          element.appendChild(docLink);\n",
              "        }\n",
              "      </script>\n",
              "    </div>\n",
              "  </div>\n",
              "  "
            ]
          },
          "metadata": {},
          "execution_count": 24
        }
      ]
    }
  ]
}